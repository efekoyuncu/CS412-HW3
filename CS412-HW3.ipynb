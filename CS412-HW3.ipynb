{
  "nbformat": 4,
  "nbformat_minor": 0,
  "metadata": {
    "colab": {
      "provenance": []
    },
    "kernelspec": {
      "name": "python3",
      "display_name": "Python 3"
    },
    "language_info": {
      "name": "python"
    }
  },
  "cells": [
    {
      "cell_type": "markdown",
      "source": [
        "CS 412 HW-3 Efe Koyuncu 29404"
      ],
      "metadata": {
        "id": "VSlJL9wwcerb"
      }
    },
    {
      "cell_type": "markdown",
      "source": [
        "Load the dataset and preprocess the data"
      ],
      "metadata": {
        "id": "vdz8H5YyclHr"
      }
    },
    {
      "cell_type": "code",
      "execution_count": 90,
      "metadata": {
        "id": "Gx_iHLaIaAHg"
      },
      "outputs": [],
      "source": [
        "from google.colab import files\n",
        "import pandas as pd\n",
        "import io\n",
        "from sklearn.model_selection import train_test_split\n",
        "from sklearn.preprocessing import StandardScaler\n",
        "import numpy as np"
      ]
    },
    {
      "cell_type": "code",
      "source": [
        "from google.colab import files\n",
        "\n",
        "uploaded = files.upload()\n",
        "filename = next(iter(uploaded))\n",
        "data = pd.read_csv(io.BytesIO(uploaded[filename]))"
      ],
      "metadata": {
        "colab": {
          "base_uri": "https://localhost:8080/",
          "height": 74
        },
        "id": "h4NOqCnAfUKd",
        "outputId": "200e6e77-51f0-45b8-da8c-c2345c5e23a2"
      },
      "execution_count": 91,
      "outputs": [
        {
          "output_type": "display_data",
          "data": {
            "text/plain": [
              "<IPython.core.display.HTML object>"
            ],
            "text/html": [
              "\n",
              "     <input type=\"file\" id=\"files-fc00c2dd-fe0e-475c-9c18-8b5ecb3f7027\" name=\"files[]\" multiple disabled\n",
              "        style=\"border:none\" />\n",
              "     <output id=\"result-fc00c2dd-fe0e-475c-9c18-8b5ecb3f7027\">\n",
              "      Upload widget is only available when the cell has been executed in the\n",
              "      current browser session. Please rerun this cell to enable.\n",
              "      </output>\n",
              "      <script>// Copyright 2017 Google LLC\n",
              "//\n",
              "// Licensed under the Apache License, Version 2.0 (the \"License\");\n",
              "// you may not use this file except in compliance with the License.\n",
              "// You may obtain a copy of the License at\n",
              "//\n",
              "//      http://www.apache.org/licenses/LICENSE-2.0\n",
              "//\n",
              "// Unless required by applicable law or agreed to in writing, software\n",
              "// distributed under the License is distributed on an \"AS IS\" BASIS,\n",
              "// WITHOUT WARRANTIES OR CONDITIONS OF ANY KIND, either express or implied.\n",
              "// See the License for the specific language governing permissions and\n",
              "// limitations under the License.\n",
              "\n",
              "/**\n",
              " * @fileoverview Helpers for google.colab Python module.\n",
              " */\n",
              "(function(scope) {\n",
              "function span(text, styleAttributes = {}) {\n",
              "  const element = document.createElement('span');\n",
              "  element.textContent = text;\n",
              "  for (const key of Object.keys(styleAttributes)) {\n",
              "    element.style[key] = styleAttributes[key];\n",
              "  }\n",
              "  return element;\n",
              "}\n",
              "\n",
              "// Max number of bytes which will be uploaded at a time.\n",
              "const MAX_PAYLOAD_SIZE = 100 * 1024;\n",
              "\n",
              "function _uploadFiles(inputId, outputId) {\n",
              "  const steps = uploadFilesStep(inputId, outputId);\n",
              "  const outputElement = document.getElementById(outputId);\n",
              "  // Cache steps on the outputElement to make it available for the next call\n",
              "  // to uploadFilesContinue from Python.\n",
              "  outputElement.steps = steps;\n",
              "\n",
              "  return _uploadFilesContinue(outputId);\n",
              "}\n",
              "\n",
              "// This is roughly an async generator (not supported in the browser yet),\n",
              "// where there are multiple asynchronous steps and the Python side is going\n",
              "// to poll for completion of each step.\n",
              "// This uses a Promise to block the python side on completion of each step,\n",
              "// then passes the result of the previous step as the input to the next step.\n",
              "function _uploadFilesContinue(outputId) {\n",
              "  const outputElement = document.getElementById(outputId);\n",
              "  const steps = outputElement.steps;\n",
              "\n",
              "  const next = steps.next(outputElement.lastPromiseValue);\n",
              "  return Promise.resolve(next.value.promise).then((value) => {\n",
              "    // Cache the last promise value to make it available to the next\n",
              "    // step of the generator.\n",
              "    outputElement.lastPromiseValue = value;\n",
              "    return next.value.response;\n",
              "  });\n",
              "}\n",
              "\n",
              "/**\n",
              " * Generator function which is called between each async step of the upload\n",
              " * process.\n",
              " * @param {string} inputId Element ID of the input file picker element.\n",
              " * @param {string} outputId Element ID of the output display.\n",
              " * @return {!Iterable<!Object>} Iterable of next steps.\n",
              " */\n",
              "function* uploadFilesStep(inputId, outputId) {\n",
              "  const inputElement = document.getElementById(inputId);\n",
              "  inputElement.disabled = false;\n",
              "\n",
              "  const outputElement = document.getElementById(outputId);\n",
              "  outputElement.innerHTML = '';\n",
              "\n",
              "  const pickedPromise = new Promise((resolve) => {\n",
              "    inputElement.addEventListener('change', (e) => {\n",
              "      resolve(e.target.files);\n",
              "    });\n",
              "  });\n",
              "\n",
              "  const cancel = document.createElement('button');\n",
              "  inputElement.parentElement.appendChild(cancel);\n",
              "  cancel.textContent = 'Cancel upload';\n",
              "  const cancelPromise = new Promise((resolve) => {\n",
              "    cancel.onclick = () => {\n",
              "      resolve(null);\n",
              "    };\n",
              "  });\n",
              "\n",
              "  // Wait for the user to pick the files.\n",
              "  const files = yield {\n",
              "    promise: Promise.race([pickedPromise, cancelPromise]),\n",
              "    response: {\n",
              "      action: 'starting',\n",
              "    }\n",
              "  };\n",
              "\n",
              "  cancel.remove();\n",
              "\n",
              "  // Disable the input element since further picks are not allowed.\n",
              "  inputElement.disabled = true;\n",
              "\n",
              "  if (!files) {\n",
              "    return {\n",
              "      response: {\n",
              "        action: 'complete',\n",
              "      }\n",
              "    };\n",
              "  }\n",
              "\n",
              "  for (const file of files) {\n",
              "    const li = document.createElement('li');\n",
              "    li.append(span(file.name, {fontWeight: 'bold'}));\n",
              "    li.append(span(\n",
              "        `(${file.type || 'n/a'}) - ${file.size} bytes, ` +\n",
              "        `last modified: ${\n",
              "            file.lastModifiedDate ? file.lastModifiedDate.toLocaleDateString() :\n",
              "                                    'n/a'} - `));\n",
              "    const percent = span('0% done');\n",
              "    li.appendChild(percent);\n",
              "\n",
              "    outputElement.appendChild(li);\n",
              "\n",
              "    const fileDataPromise = new Promise((resolve) => {\n",
              "      const reader = new FileReader();\n",
              "      reader.onload = (e) => {\n",
              "        resolve(e.target.result);\n",
              "      };\n",
              "      reader.readAsArrayBuffer(file);\n",
              "    });\n",
              "    // Wait for the data to be ready.\n",
              "    let fileData = yield {\n",
              "      promise: fileDataPromise,\n",
              "      response: {\n",
              "        action: 'continue',\n",
              "      }\n",
              "    };\n",
              "\n",
              "    // Use a chunked sending to avoid message size limits. See b/62115660.\n",
              "    let position = 0;\n",
              "    do {\n",
              "      const length = Math.min(fileData.byteLength - position, MAX_PAYLOAD_SIZE);\n",
              "      const chunk = new Uint8Array(fileData, position, length);\n",
              "      position += length;\n",
              "\n",
              "      const base64 = btoa(String.fromCharCode.apply(null, chunk));\n",
              "      yield {\n",
              "        response: {\n",
              "          action: 'append',\n",
              "          file: file.name,\n",
              "          data: base64,\n",
              "        },\n",
              "      };\n",
              "\n",
              "      let percentDone = fileData.byteLength === 0 ?\n",
              "          100 :\n",
              "          Math.round((position / fileData.byteLength) * 100);\n",
              "      percent.textContent = `${percentDone}% done`;\n",
              "\n",
              "    } while (position < fileData.byteLength);\n",
              "  }\n",
              "\n",
              "  // All done.\n",
              "  yield {\n",
              "    response: {\n",
              "      action: 'complete',\n",
              "    }\n",
              "  };\n",
              "}\n",
              "\n",
              "scope.google = scope.google || {};\n",
              "scope.google.colab = scope.google.colab || {};\n",
              "scope.google.colab._files = {\n",
              "  _uploadFiles,\n",
              "  _uploadFilesContinue,\n",
              "};\n",
              "})(self);\n",
              "</script> "
            ]
          },
          "metadata": {}
        },
        {
          "output_type": "stream",
          "name": "stdout",
          "text": [
            "Saving titanicdata.csv to titanicdata (5).csv\n"
          ]
        }
      ]
    },
    {
      "cell_type": "code",
      "source": [
        "\n",
        "\n",
        "data['Sex'] = data['Sex'].map({1: 1, 2: 0})\n",
        "\n",
        "# Set random seed\n",
        "np.random.seed(42)\n",
        "\n",
        "# Prepare the feature matrix and target vector\n",
        "X = data[['Pclass', 'Sex', 'Age']].values\n",
        "y = data['Survived'].values\n",
        "\n",
        "# Split the data into training, validation, and test sets\n",
        "X_train_val, X_test, y_train_val, y_test = train_test_split(X, y, test_size=0.2, random_state=42)\n",
        "X_train, X_val, y_train, y_val = train_test_split(X_train_val, y_train_val, test_size=0.25, random_state=42)  # 0.25 x 0.8 = 0.2\n",
        "\n",
        "# Initialize the StandardScaler and fit it on the training data\n",
        "scaler = StandardScaler()\n",
        "X_train_scaled = scaler.fit_transform(X_train)\n",
        "\n",
        "# Scale the validation and test sets using the same scaler\n",
        "X_val_scaled = scaler.transform(X_val)\n",
        "X_test_scaled = scaler.transform(X_test)"
      ],
      "metadata": {
        "id": "q_Rgk5SPfZ4l"
      },
      "execution_count": 92,
      "outputs": []
    },
    {
      "cell_type": "markdown",
      "source": [
        "Implement the logistic regression model"
      ],
      "metadata": {
        "id": "fCB_tigIg5o0"
      }
    },
    {
      "cell_type": "code",
      "source": [
        "class LogisticRegressionFromScratch:\n",
        "    def __init__(self, learning_rate=0.1, num_iterations=100):\n",
        "        self.learning_rate = learning_rate\n",
        "        self.num_iterations = num_iterations\n",
        "        self.weights = None\n",
        "\n",
        "    def sigmoid(self, z):\n",
        "        return 1 / (1 + np.exp(-z))\n",
        "\n",
        "    def compute_cost(self, X, y):\n",
        "        m = y.size\n",
        "        predictions = self.sigmoid(np.dot(X, self.weights))\n",
        "        cost = (-1 / m) * np.sum(y * np.log(predictions) + (1 - y) * np.log(1 - predictions))\n",
        "        return cost\n",
        "\n",
        "    def fit(self, X, y, X_val=None, y_val=None):\n",
        "        # Initialize weights with zeros\n",
        "        self.weights = np.zeros(X.shape[1])\n",
        "\n",
        "        train_losses = []\n",
        "        val_losses = []\n",
        "\n",
        "        for i in range(self.num_iterations):\n",
        "            # Compute predictions and errors\n",
        "            predictions = self.sigmoid(np.dot(X, self.weights))\n",
        "            errors = predictions - y\n",
        "\n",
        "            # Update weights\n",
        "            self.weights -= self.learning_rate * (1 / len(X)) * np.dot(X.T, errors)\n",
        "\n",
        "            # Calculate training loss\n",
        "            train_loss = self.compute_cost(X, y)\n",
        "            train_losses.append(train_loss)\n",
        "\n",
        "            # Calculate validation loss if validation data is provided\n",
        "            if X_val is not None and y_val is not None:\n",
        "                val_loss = self.compute_cost(X_val, y_val)\n",
        "                val_losses.append(val_loss)\n",
        "\n",
        "        return train_losses, val_losses"
      ],
      "metadata": {
        "id": "q5m2lPcPg6Ul"
      },
      "execution_count": 93,
      "outputs": []
    },
    {
      "cell_type": "markdown",
      "source": [
        "Set the step size to 0.1. Train your model using the training data. Calculate the loss on the validation\n",
        "data. Plot both the training and validation losses across 100 iterations."
      ],
      "metadata": {
        "id": "yv4GZvrWh6oz"
      }
    },
    {
      "cell_type": "code",
      "source": [
        "learning_rate = 0.1\n",
        "num_iterations = 100\n",
        "\n",
        "# Initialize the logistic regression model\n",
        "log_reg = LogisticRegressionFromScratch(learning_rate=learning_rate, num_iterations=num_iterations)\n",
        "\n",
        "# Train the model using the training data\n",
        "train_losses, val_losses = log_reg.fit(X_train_scaled, y_train, X_val_scaled, y_val)\n",
        "\n",
        "# Plot both the training and validation losses across 100 iterations\n",
        "plt.plot(train_losses, label='Training Loss')\n",
        "plt.plot(val_losses, label='Validation Loss')\n",
        "plt.xlabel('Iterations')\n",
        "plt.ylabel('Loss')\n",
        "plt.legend()\n",
        "plt.show()"
      ],
      "metadata": {
        "colab": {
          "base_uri": "https://localhost:8080/",
          "height": 449
        },
        "id": "0plZRe5NiLn0",
        "outputId": "2b02947c-9ed2-4eb2-c24f-4a099caf5173"
      },
      "execution_count": 94,
      "outputs": [
        {
          "output_type": "display_data",
          "data": {
            "text/plain": [
              "<Figure size 640x480 with 1 Axes>"
            ],
            "image/png": "[encoded data removed]"
          },
          "metadata": {}
        }
      ]
    },
    {
      "cell_type": "markdown",
      "source": [
        "Now vary your step size and number of iterations, and calculate the validation loss in each case. Pick\n",
        "the one that gives you the best loss. Plot the loss curve across different iterations for the chosen values\n",
        "of these hyperparameters"
      ],
      "metadata": {
        "id": "xmxxkPZnk8AV"
      }
    },
    {
      "cell_type": "code",
      "source": [
        "def run_experiment(learning_rates, num_iterations_list, X_train, y_train, X_val, y_val):\n",
        "    best_loss = float('inf')\n",
        "    best_lr = None\n",
        "    best_iter = None\n",
        "    best_val_losses = None\n",
        "\n",
        "    for lr in learning_rates:\n",
        "        for num_iter in num_iterations_list:\n",
        "            # Create and train the model\n",
        "            model = LogisticRegressionFromScratch(learning_rate=lr, num_iterations=num_iter)\n",
        "            train_losses, val_losses = model.fit(X_train, y_train, X_val, y_val)\n",
        "\n",
        "            # Record the final validation loss\n",
        "            final_val_loss = val_losses[-1]\n",
        "            print(f\"Learning Rate: {lr}, Iterations: {num_iter}, Final Validation Loss: {final_val_loss}\")\n",
        "\n",
        "            # Check if this is the best (lowest) validation loss we've seen so far\n",
        "            if final_val_loss < best_loss:\n",
        "                best_loss = final_val_loss\n",
        "                best_lr = lr\n",
        "                best_iter = num_iter\n",
        "                best_val_losses = val_losses\n",
        "\n",
        "    return best_lr, best_iter, best_val_losses\n",
        "\n",
        "# Define ranges of learning rates and iterations to try\n",
        "learning_rates = [0.001, 0.01, 0.1]\n",
        "num_iterations_list = [100, 200, 500]\n",
        "\n",
        "# Run the experiment\n",
        "best_lr, best_iter, best_val_losses = run_experiment(learning_rates, num_iterations_list, X_train_scaled, y_train, X_val_scaled, y_val)\n",
        "\n",
        "if best_val_losses is not None:\n",
        "    plt.plot(best_val_losses, label=f'Best Validation Loss (LR={best_lr}, Iter={best_iter})')\n",
        "    plt.xlabel('Iterations')\n",
        "    plt.ylabel('Loss')\n",
        "    plt.legend()\n",
        "    plt.show()\n",
        "else:\n",
        "    print(\"No best validation losses found.\")"
      ],
      "metadata": {
        "colab": {
          "base_uri": "https://localhost:8080/",
          "height": 610
        },
        "id": "yvt3ari6k_g1",
        "outputId": "5823dbd2-2992-4ad1-edfc-f7f689ede39b"
      },
      "execution_count": 95,
      "outputs": [
        {
          "output_type": "stream",
          "name": "stdout",
          "text": [
            "Learning Rate: 0.001, Iterations: 100, Final Validation Loss: 0.6839707526220677\n",
            "Learning Rate: 0.001, Iterations: 200, Final Validation Loss: 0.675274464916488\n",
            "Learning Rate: 0.001, Iterations: 500, Final Validation Loss: 0.6518101469612896\n",
            "Learning Rate: 0.01, Iterations: 100, Final Validation Loss: 0.6200221903380138\n",
            "Learning Rate: 0.01, Iterations: 200, Final Validation Loss: 0.5763069162018518\n",
            "Learning Rate: 0.01, Iterations: 500, Final Validation Loss: 0.5198023386336599\n",
            "Learning Rate: 0.1, Iterations: 100, Final Validation Loss: 0.49667813393445\n",
            "Learning Rate: 0.1, Iterations: 200, Final Validation Loss: 0.490727735969031\n",
            "Learning Rate: 0.1, Iterations: 500, Final Validation Loss: 0.4907265251627171\n"
          ]
        },
        {
          "output_type": "display_data",
          "data": {
            "text/plain": [
              "<Figure size 640x480 with 1 Axes>"
            ],
            "image/png": "[encoded data removed]"
          },
          "metadata": {}
        }
      ]
    },
    {
      "cell_type": "markdown",
      "source": [
        "Combine the validation and training data and retrain the final model with the chosen hyperparameters."
      ],
      "metadata": {
        "id": "hBi2qSEQnG4Y"
      }
    },
    {
      "cell_type": "code",
      "source": [
        "X_train_val_combined = np.vstack((X_train_scaled, X_val_scaled))\n",
        "y_train_val_combined = np.concatenate((y_train, y_val))\n",
        "\n",
        "# Create a new instance of the logistic regression model with the chosen hyperparameters\n",
        "final_model = LogisticRegressionFromScratch(learning_rate=best_lr, num_iterations=best_iter)\n",
        "\n",
        "# Retrain the model using the combined training and validation data\n",
        "final_train_losses, _ = final_model.fit(X_train_val_combined, y_train_val_combined)"
      ],
      "metadata": {
        "id": "SxZVVYyLnHN_"
      },
      "execution_count": 96,
      "outputs": []
    },
    {
      "cell_type": "markdown",
      "source": [
        "Evaluate the accuracy of your model on the testing data and report the results."
      ],
      "metadata": {
        "id": "obc6ptB1oFh8"
      }
    },
    {
      "cell_type": "code",
      "source": [
        "X_test_scaled = scaler.transform(X_test)\n",
        "\n",
        "# Predict the labels for the test set\n",
        "y_pred = final_model.sigmoid(np.dot(X_test_scaled, final_model.weights))\n",
        "y_pred_class = (y_pred >= 0.5).astype(int)\n",
        "\n",
        "# Calculate the accuracy of the model on the test data\n",
        "accuracy = np.mean(y_pred_class == y_test)\n",
        "print(\"Accuracy on testing data:\", accuracy)"
      ],
      "metadata": {
        "colab": {
          "base_uri": "https://localhost:8080/"
        },
        "id": "4Fqb6FlsoGQk",
        "outputId": "9eb62995-35b5-4965-d0c9-5745769767ed"
      },
      "execution_count": 97,
      "outputs": [
        {
          "output_type": "stream",
          "name": "stdout",
          "text": [
            "Accuracy on testing data: 0.8100558659217877\n"
          ]
        }
      ]
    }
  ]
}